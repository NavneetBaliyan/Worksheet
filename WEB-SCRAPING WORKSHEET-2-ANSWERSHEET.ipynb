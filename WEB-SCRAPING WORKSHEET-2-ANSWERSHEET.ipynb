{
 "cells": [
  {
   "cell_type": "markdown",
   "metadata": {},
   "source": [
    "# WEB SCRAPING - WORKSHEET 2\n",
    "\n",
    "\n",
    "1. (A) search_all\n",
    "2. (C) Unix\n",
    "3. (C) ASP\n",
    "4. (D) send_keys()\n",
    "5. (B) Indexing\n",
    "6. (C) Web-spider\n",
    "7. (C) WebDriverWait\n",
    "8. (C) verifyelement\n",
    "9. (C) XML\n",
    "10. (B) find_element_by_id\n",
    "11. (A) class                                                                                                                \n",
    "    (B) href                                                                                                                \n",
    "12. (B) soup_parser                                                                                                           \n",
    "    (C) lxml                                                                                                                  \n",
    "13. (A) Selenium                                                                                                              \n",
    "    (B) BeautifulSoup                                                                                                         \n",
    "    (C) Requests                                                                                                             \n"
   ]
  },
  {
   "cell_type": "markdown",
   "metadata": {},
   "source": [
    "14:-"
   ]
  },
  {
   "cell_type": "code",
   "execution_count": 3,
   "metadata": {},
   "outputs": [],
   "source": [
    "import selenium\n",
    "import pandas as pd\n",
    "from selenium import webdriver\n",
    "from selenium.webdriver.chrome.options import Options\n",
    "from selenium.common.exceptions import StaleElementReferenceException, NoSuchElementException, ElementClickInterceptedException"
   ]
  },
  {
   "cell_type": "code",
   "execution_count": 9,
   "metadata": {},
   "outputs": [],
   "source": [
    "driver = webdriver.Chrome(r'C:/Users/Asus/Downloads/chromedriver_win32-new/chromedriver.exe')\n"
   ]
  },
  {
   "cell_type": "code",
   "execution_count": 10,
   "metadata": {},
   "outputs": [],
   "source": [
    "driver.get('https://www.flipkart.com')"
   ]
  },
  {
   "cell_type": "code",
   "execution_count": null,
   "metadata": {},
   "outputs": [],
   "source": [
    "search_field=driver.find_element_by_xpath(\"//div[@class='O8ZS_U']/input\")\n",
    "search_field.send_keys(\"rayban sunglasses\")\n",
    "search_button=driver.find_element_by_xpath(\"//div[@class='col-12-12 _2tVp4j']/button\")\n",
    "search_button.submit()"
   ]
  },
  {
   "cell_type": "code",
   "execution_count": null,
   "metadata": {},
   "outputs": [],
   "source": [
    "urls=[i.get_attribute('src') for i in driver.find_elements_by_xpath(\"//img[@class='_3togXc']\")]"
   ]
  },
  {
   "cell_type": "code",
   "execution_count": null,
   "metadata": {},
   "outputs": [],
   "source": []
  },
  {
   "cell_type": "code",
   "execution_count": null,
   "metadata": {},
   "outputs": [],
   "source": [
    "import os\n",
    "import requests\n",
    "def make_directory(dirname):\n",
    "    current_path=os.getcwd()\n",
    "    path=os.path.join(current_path,dirname)\n",
    "    if not os.path.exists(path):\n",
    "        os.makedirs(path)"
   ]
  },
  {
   "cell_type": "code",
   "execution_count": null,
   "metadata": {},
   "outputs": [],
   "source": [
    "image_dir=create_dir(\"Rayban\")"
   ]
  },
  {
   "cell_type": "code",
   "execution_count": null,
   "metadata": {},
   "outputs": [],
   "source": [
    "# reading the images  from urls and then saving them in the rayban directory created above\n",
    "for index,url in enumerate(urls):\n",
    "    response=requests.get(url)\n",
    "    with open(r\"\"+image_dir+\"/image{}\".format(index)+\".jpeg\",\"wb\") as f:\n",
    "        f.write(response.content)"
   ]
  },
  {
   "cell_type": "markdown",
   "metadata": {},
   "source": [
    "15"
   ]
  },
  {
   "cell_type": "code",
   "execution_count": null,
   "metadata": {},
   "outputs": [],
   "source": [
    "driver.get('https://www.amazon.in/')"
   ]
  },
  {
   "cell_type": "code",
   "execution_count": null,
   "metadata": {},
   "outputs": [],
   "source": [
    "search_field=driver.find_element_by_xpath(\"//div[@class='nav-search-field ']/input\")\n",
    "search_field.send_keys(\"mouses\")\n",
    "search_button=driver.find_element_by_xpath(\"//div[@class='nav-search-submit nav-sprite']/span/input\")\n",
    "search_button.submit()"
   ]
  },
  {
   "cell_type": "code",
   "execution_count": null,
   "metadata": {},
   "outputs": [],
   "source": [
    "min_field=driver.find_element_by_xpath(\"//li[@id='p_36/price-range']/span[1]/form[1]/input[5]\")\n",
    "min_field.send_keys(\"0\")  \n",
    "max_field=driver.find_element_by_xpath(\"//li[@id='p_36/price-range']/span[1]/form[1]/input[6]\")    \n",
    "max_field.send_keys(\"500\")\n",
    "search_filter=driver.find_element_by_xpath(\"//li[@id='p_36/price-range']/span[1]/form[1]/span[3]/span[1]/input\")                                    \n",
    "search_filter.submit()                                       "
   ]
  },
  {
   "cell_type": "code",
   "execution_count": null,
   "metadata": {},
   "outputs": [],
   "source": [
    "price=[]\n",
    "model_name=[]\n",
    "for page in range(0,10):\n",
    "        if len(price)>20:\n",
    "            break\n",
    "        for i in driver.find_elements_by_xpath(\"//div[@class='a-row']/a/span[1]/span[2]/span[2]\"):\n",
    "            price.append(i.text)\n",
    "        for i in driver.find_elements_by_xpath(\"//h2[@class='a-size-mini a-spacing-none a-color-base s-line-clamp-2']/a/span\"):\n",
    "            model_name.append(i.text)\n",
    "        #getting the next page button and clicking\n",
    "        next_page=driver.find_element_by_xpath(\"//li[@class='a-last']/a\").get_attribute(\"href\")\n",
    "        driver.get(next_page)\n",
    "        \n",
    "   "
   ]
  },
  {
   "cell_type": "code",
   "execution_count": null,
   "metadata": {
    "scrolled": true
   },
   "outputs": [],
   "source": [
    "\n",
    "df=pd.DataFrame()\n",
    "df['model_name']=model_name[0:20]\n",
    "df['price']=price[0:20]\n",
    "df"
   ]
  },
  {
   "cell_type": "markdown",
   "metadata": {},
   "source": []
  }
 ],
 "metadata": {
  "kernelspec": {
   "display_name": "Python 3",
   "language": "python",
   "name": "python3"
  },
  "language_info": {
   "codemirror_mode": {
    "name": "ipython",
    "version": 3
   },
   "file_extension": ".py",
   "mimetype": "text/x-python",
   "name": "python",
   "nbconvert_exporter": "python",
   "pygments_lexer": "ipython3",
   "version": "3.7.3"
  }
 },
 "nbformat": 4,
 "nbformat_minor": 4
}
