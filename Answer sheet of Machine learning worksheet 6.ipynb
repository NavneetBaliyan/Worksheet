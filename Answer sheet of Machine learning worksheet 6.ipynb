{
 "cells": [
  {
   "cell_type": "markdown",
   "metadata": {},
   "source": [
    "# MACHINE LEARNING – WORKSHEET 6"
   ]
  },
  {
   "cell_type": "markdown",
   "metadata": {},
   "source": [
    "1- Yes\n",
    "\n",
    "2- Green\n",
    "\n",
    "3-  They cannot be used when the data is not completely linearly separable while allowing no errors\n",
    "\n",
    "4- All of the above\n",
    "\n",
    "5- Yes\n",
    "\n",
    "6- They allow some degree of errors or misclassification\n",
    "   They can be used in case data is not completely linearly separable\n",
    "\n",
    "7- They use the kernel tricks to escape the complex computations required to transform the data\n",
    "   They take the data from lower dimensional space to some higher dimensional space in case the data is not\n",
    "   likely to be linearly separable\n",
    "\n",
    "8- These functions gives value of the dot product of pairs of data-points in the desired higher dimensional\n",
    "   space without even explicitly converting the whole data in to higher dimensional space\n",
    "\n",
    "9- It is a model trained using supervised learning. It can be used for classification and regression\n",
    "\n",
    "10-All of the above\n",
    "\n"
   ]
  }
 ],
 "metadata": {
  "kernelspec": {
   "display_name": "Python 3",
   "language": "python",
   "name": "python3"
  },
  "language_info": {
   "codemirror_mode": {
    "name": "ipython",
    "version": 3
   },
   "file_extension": ".py",
   "mimetype": "text/x-python",
   "name": "python",
   "nbconvert_exporter": "python",
   "pygments_lexer": "ipython3",
   "version": "3.7.3"
  }
 },
 "nbformat": 4,
 "nbformat_minor": 2
}
